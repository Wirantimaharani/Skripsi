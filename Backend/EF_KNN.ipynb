{
 "cells": [
  {
   "attachments": {},
   "cell_type": "markdown",
   "metadata": {},
   "source": [
    "Import Library"
   ]
  },
  {
   "cell_type": "code",
   "execution_count": 653,
   "metadata": {},
   "outputs": [],
   "source": [
    "import os\n",
    "import cv2\n",
    "import numpy as np\n",
    "import pandas as pd\n",
    "from tabulate import tabulate"
   ]
  },
  {
   "attachments": {},
   "cell_type": "markdown",
   "metadata": {},
   "source": [
    "Directory"
   ]
  },
  {
   "cell_type": "code",
   "execution_count": 654,
   "metadata": {},
   "outputs": [],
   "source": [
    "image_directory_training=\"ROI/Training\"\n",
    "image_directory_testing=\"ROI/Testing\""
   ]
  },
  {
   "attachments": {},
   "cell_type": "markdown",
   "metadata": {},
   "source": [
    "Ekstraksi Fitur RGB"
   ]
  },
  {
   "cell_type": "code",
   "execution_count": 655,
   "metadata": {},
   "outputs": [],
   "source": [
    "def ef_rgb_training(image_directory_training):\n",
    "\n",
    "   # membuat list untuk menyimpan hasil ekstraksi fitur\n",
    "  features_training = []\n",
    "\n",
    "  # melakukan ekstraksi fitur pada setiap folder\n",
    "  for a, (root, dirs, files) in enumerate(os.walk(image_directory_training), start=0):\n",
    "\n",
    "    # mengambil semua file gambar di dalam folder\n",
    "    image_files = [f for f in files if f.endswith('.jpg')]\n",
    "\n",
    "    # melakukan ekstraksi fitur pada setiap gambar\n",
    "    for image_file in image_files:\n",
    "      # membaca gambar\n",
    "      image = cv2.imread(os.path.join(root, image_file))\n",
    "\n",
    "      # mengubah gambar ke dalam format RGB\n",
    "      rgb = cv2.cvtColor(image, cv2.COLOR_BGR2RGB)\n",
    "\n",
    "      # mengambil nilai red (R) dari gambar\n",
    "      red = rgb[:, :, 0]\n",
    "\n",
    "      # mengambil nilai green (G) dari gambar\n",
    "      green = rgb[:, :, 1]\n",
    "\n",
    "      # mengambil nilai blue (B) dari gambar\n",
    "      blue = rgb[:, :, 2]\n",
    "      \n",
    "      # NYALAKAN SALAH SATU AJA BEB YG DIBAWAH\n",
    "      # KLO MAU RED NYALAIN YG RED AJA YG LAIN DIMATIKAN\n",
    "      \n",
    "      # menambahkan nilai R ke dalam list\n",
    "      features_training.append([np.mean(red),np.mean(green),np.mean(blue) ,a])\n",
    "      \n",
    "      # menambahkan nilai R ke dalam list\n",
    "      # features_training.append([np.mean(green), a])\n",
    "      \n",
    "      # menambahkan nilai R ke dalam list\n",
    "      # features_training.append([np.mean(blue), a])\n",
    "\n",
    "  return features_training\n",
    "\n",
    "\n",
    "def ef_rgb_testing(image_directory_testing):\n",
    "\n",
    "   # membuat list untuk menyimpan hasil ekstraksi fitur\n",
    "  features_testing = []\n",
    "\n",
    "  # melakukan ekstraksi fitur pada setiap folder\n",
    "  for a, (root, dirs, files) in enumerate(os.walk(image_directory_testing), start=0):\n",
    "\n",
    "    # mengambil semua file gambar di dalam folder\n",
    "    image_files = [f for f in files if f.endswith('.jpg')]\n",
    "\n",
    "    # melakukan ekstraksi fitur pada setiap gambar\n",
    "    for image_file in image_files:\n",
    "      # membaca gambar\n",
    "      image = cv2.imread(os.path.join(root, image_file))\n",
    "\n",
    "      # mengubah gambar ke dalam format RGB\n",
    "      rgb = cv2.cvtColor(image, cv2.COLOR_BGR2RGB)\n",
    "\n",
    "      # mengambil nilai red (R) dari gambar\n",
    "      red = rgb[:, :, 0]\n",
    "\n",
    "      # mengambil nilai green (G) dari gambar\n",
    "      green = rgb[:, :, 1]\n",
    "\n",
    "      # mengambil nilai blue (B) dari gambar\n",
    "      blue = rgb[:, :, 2]\n",
    "\n",
    "      # NYALAKAN SALAH SATU AJA BEB YG DIBAWAH\n",
    "      # KLO MAU RED NYALAIN YG RED AJA YG LAIN DIMATIKAN\n",
    "\n",
    "      # menambahkan nilai R ke dalam list\n",
    "      features_testing.append([np.mean(red),np.mean(green),np.mean(blue) ,a])\n",
    "\n",
    "      # menambahkan nilai R ke dalam list\n",
    "      # features_testing.append([np.mean(green), a])\n",
    "\n",
    "      # menambahkan nilai R ke dalam list\n",
    "      # features_testing.append([np.mean(blue), a])\n",
    "\n",
    "  return features_testing\n"
   ]
  },
  {
   "attachments": {},
   "cell_type": "markdown",
   "metadata": {},
   "source": [
    "Inisialisasi Data Training"
   ]
  },
  {
   "cell_type": "code",
   "execution_count": 656,
   "metadata": {},
   "outputs": [],
   "source": [
    "train_data = ef_rgb_training(image_directory_training)\n",
    "\n",
    "# header tabel\n",
    "header = [\"Nilai Ekstraksi\", \"Label\"]\n",
    "\n",
    "# Mencetak tabel menggunakan tabulate\n",
    "# print(tabulate(train_data, headers=header, tablefmt=\"grid\"))"
   ]
  },
  {
   "attachments": {},
   "cell_type": "markdown",
   "metadata": {},
   "source": [
    "Inisialisasi Data Testing"
   ]
  },
  {
   "cell_type": "code",
   "execution_count": 657,
   "metadata": {},
   "outputs": [],
   "source": [
    "test_data = ef_rgb_testing(image_directory_testing)\n",
    "\n",
    "# header tabel\n",
    "header = [\"Nilai Ekstraksi\", \"Label\"]\n",
    "\n",
    "# Mencetak tabel menggunakan tabulate\n",
    "# print(tabulate(test_data, headers=header, tablefmt=\"grid\"))"
   ]
  },
  {
   "attachments": {},
   "cell_type": "markdown",
   "metadata": {},
   "source": [
    "Klasifikasi Model KNN"
   ]
  },
  {
   "cell_type": "code",
   "execution_count": 658,
   "metadata": {},
   "outputs": [],
   "source": [
    "# Pisahkan nilai ekstraksi (X_train) dan label (y_train) untuk data training\n",
    "X_train = [data[:-1] for data in train_data]\n",
    "y_train = [data[-1] for data in train_data]"
   ]
  },
  {
   "cell_type": "code",
   "execution_count": 659,
   "metadata": {},
   "outputs": [
    {
     "data": {
      "text/html": [
       "<style>#sk-container-id-55 {color: black;background-color: white;}#sk-container-id-55 pre{padding: 0;}#sk-container-id-55 div.sk-toggleable {background-color: white;}#sk-container-id-55 label.sk-toggleable__label {cursor: pointer;display: block;width: 100%;margin-bottom: 0;padding: 0.3em;box-sizing: border-box;text-align: center;}#sk-container-id-55 label.sk-toggleable__label-arrow:before {content: \"▸\";float: left;margin-right: 0.25em;color: #696969;}#sk-container-id-55 label.sk-toggleable__label-arrow:hover:before {color: black;}#sk-container-id-55 div.sk-estimator:hover label.sk-toggleable__label-arrow:before {color: black;}#sk-container-id-55 div.sk-toggleable__content {max-height: 0;max-width: 0;overflow: hidden;text-align: left;background-color: #f0f8ff;}#sk-container-id-55 div.sk-toggleable__content pre {margin: 0.2em;color: black;border-radius: 0.25em;background-color: #f0f8ff;}#sk-container-id-55 input.sk-toggleable__control:checked~div.sk-toggleable__content {max-height: 200px;max-width: 100%;overflow: auto;}#sk-container-id-55 input.sk-toggleable__control:checked~label.sk-toggleable__label-arrow:before {content: \"▾\";}#sk-container-id-55 div.sk-estimator input.sk-toggleable__control:checked~label.sk-toggleable__label {background-color: #d4ebff;}#sk-container-id-55 div.sk-label input.sk-toggleable__control:checked~label.sk-toggleable__label {background-color: #d4ebff;}#sk-container-id-55 input.sk-hidden--visually {border: 0;clip: rect(1px 1px 1px 1px);clip: rect(1px, 1px, 1px, 1px);height: 1px;margin: -1px;overflow: hidden;padding: 0;position: absolute;width: 1px;}#sk-container-id-55 div.sk-estimator {font-family: monospace;background-color: #f0f8ff;border: 1px dotted black;border-radius: 0.25em;box-sizing: border-box;margin-bottom: 0.5em;}#sk-container-id-55 div.sk-estimator:hover {background-color: #d4ebff;}#sk-container-id-55 div.sk-parallel-item::after {content: \"\";width: 100%;border-bottom: 1px solid gray;flex-grow: 1;}#sk-container-id-55 div.sk-label:hover label.sk-toggleable__label {background-color: #d4ebff;}#sk-container-id-55 div.sk-serial::before {content: \"\";position: absolute;border-left: 1px solid gray;box-sizing: border-box;top: 0;bottom: 0;left: 50%;z-index: 0;}#sk-container-id-55 div.sk-serial {display: flex;flex-direction: column;align-items: center;background-color: white;padding-right: 0.2em;padding-left: 0.2em;position: relative;}#sk-container-id-55 div.sk-item {position: relative;z-index: 1;}#sk-container-id-55 div.sk-parallel {display: flex;align-items: stretch;justify-content: center;background-color: white;position: relative;}#sk-container-id-55 div.sk-item::before, #sk-container-id-55 div.sk-parallel-item::before {content: \"\";position: absolute;border-left: 1px solid gray;box-sizing: border-box;top: 0;bottom: 0;left: 50%;z-index: -1;}#sk-container-id-55 div.sk-parallel-item {display: flex;flex-direction: column;z-index: 1;position: relative;background-color: white;}#sk-container-id-55 div.sk-parallel-item:first-child::after {align-self: flex-end;width: 50%;}#sk-container-id-55 div.sk-parallel-item:last-child::after {align-self: flex-start;width: 50%;}#sk-container-id-55 div.sk-parallel-item:only-child::after {width: 0;}#sk-container-id-55 div.sk-dashed-wrapped {border: 1px dashed gray;margin: 0 0.4em 0.5em 0.4em;box-sizing: border-box;padding-bottom: 0.4em;background-color: white;}#sk-container-id-55 div.sk-label label {font-family: monospace;font-weight: bold;display: inline-block;line-height: 1.2em;}#sk-container-id-55 div.sk-label-container {text-align: center;}#sk-container-id-55 div.sk-container {/* jupyter's `normalize.less` sets `[hidden] { display: none; }` but bootstrap.min.css set `[hidden] { display: none !important; }` so we also need the `!important` here to be able to override the default hidden behavior on the sphinx rendered scikit-learn.org. See: https://github.com/scikit-learn/scikit-learn/issues/21755 */display: inline-block !important;position: relative;}#sk-container-id-55 div.sk-text-repr-fallback {display: none;}</style><div id=\"sk-container-id-55\" class=\"sk-top-container\"><div class=\"sk-text-repr-fallback\"><pre>KNeighborsClassifier(n_neighbors=12)</pre><b>In a Jupyter environment, please rerun this cell to show the HTML representation or trust the notebook. <br />On GitHub, the HTML representation is unable to render, please try loading this page with nbviewer.org.</b></div><div class=\"sk-container\" hidden><div class=\"sk-item\"><div class=\"sk-estimator sk-toggleable\"><input class=\"sk-toggleable__control sk-hidden--visually\" id=\"sk-estimator-id-55\" type=\"checkbox\" checked><label for=\"sk-estimator-id-55\" class=\"sk-toggleable__label sk-toggleable__label-arrow\">KNeighborsClassifier</label><div class=\"sk-toggleable__content\"><pre>KNeighborsClassifier(n_neighbors=12)</pre></div></div></div></div></div>"
      ],
      "text/plain": [
       "KNeighborsClassifier(n_neighbors=12)"
      ]
     },
     "execution_count": 659,
     "metadata": {},
     "output_type": "execute_result"
    }
   ],
   "source": [
    "from sklearn.neighbors import KNeighborsClassifier\n",
    "\n",
    "# Membuat Model KNN\n",
    "model = KNeighborsClassifier(n_neighbors=12)\n",
    "model.fit(X_train, y_train)"
   ]
  },
  {
   "cell_type": "code",
   "execution_count": 660,
   "metadata": {},
   "outputs": [],
   "source": [
    "# Pisahkan nilai ekstraksi (X_test) dan label (y_true) untuk data testing\n",
    "X_test = [data[:-1] for data in test_data]\n",
    "y_true = [data[-1] for data in test_data]"
   ]
  },
  {
   "cell_type": "code",
   "execution_count": 661,
   "metadata": {},
   "outputs": [
    {
     "data": {
      "text/plain": [
       "array([1, 1, 1, 1, 1, 1, 1, 1, 1, 1, 2, 2, 2, 1, 2, 2, 2, 2, 2, 2])"
      ]
     },
     "execution_count": 661,
     "metadata": {},
     "output_type": "execute_result"
    }
   ],
   "source": [
    "# prediksi data testing menggunakan model yang sudah di latih\n",
    "y_pred = model.predict(X_test)\n",
    "y_pred"
   ]
  },
  {
   "cell_type": "code",
   "execution_count": 662,
   "metadata": {},
   "outputs": [],
   "source": [
    "# Menggabungkan data uji dan hasil prediksi\n",
    "result_table = []\n",
    "for data, pred in zip(test_data, y_pred):\n",
    "    # Mengambil nilai fitur berdasarkan indeks\n",
    "    feature_values = [data[i] for i in range(len(data))]\n",
    "    result_row = feature_values + [pred]\n",
    "    result_table.append(result_row)\n",
    "\n",
    "# header tabel rgb\n",
    "header = [\"Nilai Ekstraksi\",\"True Label\", \"Predict Label\"]\n",
    "\n",
    "# Mencetak tabel menggunakan tabulate\n",
    "# print(tabulate(result_table, headers=header, tablefmt=\"grid\"))"
   ]
  },
  {
   "attachments": {},
   "cell_type": "markdown",
   "metadata": {},
   "source": [
    "Evaluasi Model"
   ]
  },
  {
   "cell_type": "code",
   "execution_count": 663,
   "metadata": {},
   "outputs": [
    {
     "name": "stdout",
     "output_type": "stream",
     "text": [
      "              precision    recall  f1-score   support\n",
      "\n",
      "           1       0.91      1.00      0.95        10\n",
      "           2       1.00      0.90      0.95        10\n",
      "\n",
      "    accuracy                           0.95        20\n",
      "   macro avg       0.95      0.95      0.95        20\n",
      "weighted avg       0.95      0.95      0.95        20\n",
      "\n"
     ]
    }
   ],
   "source": [
    "from sklearn.metrics import classification_report\n",
    "\n",
    "print(classification_report(y_true, y_pred))"
   ]
  },
  {
   "cell_type": "code",
   "execution_count": 664,
   "metadata": {},
   "outputs": [
    {
     "data": {
      "image/png": "[encoded data removed]",
      "text/plain": [
       "<Figure size 640x480 with 2 Axes>"
      ]
     },
     "metadata": {},
     "output_type": "display_data"
    }
   ],
   "source": [
    "import seaborn as sns\n",
    "import matplotlib.pyplot as plt\n",
    "from sklearn.metrics import confusion_matrix\n",
    "\n",
    "\n",
    "# menghitung confusion matrix\n",
    "conf_mat = confusion_matrix(y_true, y_pred)\n",
    "\n",
    "sns.heatmap(conf_mat, annot=True, cmap='Blues', fmt='d')\n",
    "plt.xlabel('Predicted')\n",
    "plt.ylabel('True')\n",
    "plt.show()"
   ]
  }
 ],
 "metadata": {
  "kernelspec": {
   "display_name": "Python 3",
   "language": "python",
   "name": "python3"
  },
  "language_info": {
   "codemirror_mode": {
    "name": "ipython",
    "version": 3
   },
   "file_extension": ".py",
   "mimetype": "text/x-python",
   "name": "python",
   "nbconvert_exporter": "python",
   "pygments_lexer": "ipython3",
   "version": "3.10.5"
  },
  "orig_nbformat": 4
 },
 "nbformat": 4,
 "nbformat_minor": 2
}
