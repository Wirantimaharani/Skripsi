{
 "cells": [
  {
   "cell_type": "code",
   "execution_count": 1,
   "metadata": {},
   "outputs": [],
   "source": [
    "import cv2\n",
    "import joblib\n",
    "import numpy as np\n",
    "import pandas as pd \n",
    "from skimage.feature import greycomatrix, greycoprops"
   ]
  },
  {
   "cell_type": "code",
   "execution_count": 2,
   "metadata": {},
   "outputs": [],
   "source": [
    "nb = joblib.load('KNN_ROI.pkl')"
   ]
  },
  {
   "cell_type": "code",
   "execution_count": 3,
   "metadata": {},
   "outputs": [],
   "source": [
    "def preprocess_and_extract_features(image_path):\n",
    "    #load image\n",
    "    image = cv2.imread(image_path)\n",
    "\n",
    "    height, width, channel = image.shape\n",
    "\n",
    "    if height > width:\n",
    "        crop_size = width\n",
    "        y = int ((height-width)/2)\n",
    "        x=0\n",
    "    else:\n",
    "        crop_size = height\n",
    "        x = int ((width - height)/2)\n",
    "        y=0\n",
    "\n",
    "    cropped_image = image[y:y+crop_size, x:x+crop_size]\n",
    "\n",
    "    gray = cv2.cvtColor(cropped_image,cv2.COLOR_BGR2GRAY)\n",
    "    _, thresh = cv2.threshold(\n",
    "        gray, 0, 255, cv2.THRESH_BINARY_INV+cv2.THRESH_OTSU\n",
    "    )\n",
    "    contours, _ = cv2.findContours(\n",
    "        thresh, cv2.RETR_EXTERNAL, cv2. CHAIN_APPROX_SIMPLE\n",
    "    )\n",
    "    cnt = max(contours, key=cv2.contourArea)\n",
    "\n",
    "    x, y, w, h, =cv2.boundingRect(cnt)\n",
    "\n",
    "    roi = cropped_image [y:y+h, x:x+w]\n",
    "\n",
    "    resize_roi = cv2.resize(roi, (1080, 1080))\n",
    "\n",
    "    # resize = cv2.resize(resize_roi, (512, 512))\n",
    "    # cv2.imshow(\"resize\", resize)\n",
    "    # cv2.waitKey(0)\n",
    "    # cv2.destroyAllWindows()\n",
    "    #convert image to rgb\n",
    "    rgb_image= cv2.cvtColor(resize_roi, cv2.COLOR_BGR2RGB)\n",
    "    \n",
    "    \n",
    "\n",
    "    #rata rata rgb\n",
    "    r_mean = np.mean(rgb_image[:,:,0])\n",
    "    g_mean = np.mean(rgb_image[:,:,1])\n",
    "    b_mean = np.mean(rgb_image[:,:,2])\n",
    "    \n",
    "    glcm_properties = ['correlation', 'homogeneity','dissimilarity','contrast',]\n",
    "\n",
    "    image_gray = cv2.cvtColor(resize_roi, cv2.COLOR_BGR2GRAY)\n",
    "    glcm = greycomatrix(image_gray, distances=[2], angles=[0, np.pi/4, np.pi/2, 3*np.pi/4],\n",
    "                                levels=256, symmetric=True, normed=True)\n",
    "\n",
    "    feature =[]\n",
    "    glcm_props = [propery for name in glcm_properties for propery in greycoprops(glcm, name)[0]]\n",
    "    \n",
    "    for item in glcm_props:\n",
    "        feature.append(item)\n",
    "\n",
    "    #create feature array \n",
    "    x= np.array([r_mean,g_mean,b_mean] + feature[:])\n",
    "\n",
    "    return x"
   ]
  },
  {
   "cell_type": "code",
   "execution_count": 4,
   "metadata": {},
   "outputs": [],
   "source": [
    "def classify (image_path):\n",
    "    #melakukan pre processing dan ekstrasi fitur\n",
    "    x= preprocess_and_extract_features(image_path)\n",
    "\n",
    "    #mengubah bentuk array\n",
    "    x_reshaped = x.reshape(1,-1)\n",
    "\n",
    "    #Membuat dataframe menggu nama fitur \n",
    "    glcm_properties = ['correlation', 'homogeneity','dissimilarity','contrast',]\n",
    "    angles=[0,45,90,135]\n",
    "    \n",
    "    feature_names = ['R','G','B'] + [f'{prop} {angle}' for prop in glcm_properties for angle in angles]\n",
    "    x_new = pd.DataFrame(data=x_reshaped, columns=feature_names)\n",
    "\n",
    "    #predict label\n",
    "    y_pred = nb.predict(x_new)\n",
    "\n",
    "    #print label \n",
    "    print (f'Label: {y_pred[0]}')\n"
   ]
  },
  {
   "cell_type": "code",
   "execution_count": 12,
   "metadata": {},
   "outputs": [
    {
     "name": "stdout",
     "output_type": "stream",
     "text": [
      "Label: 2\n"
     ]
    },
    {
     "name": "stderr",
     "output_type": "stream",
     "text": [
      "c:\\Users\\ASUS\\AppData\\Local\\Programs\\Python\\Python310\\lib\\site-packages\\skimage\\feature\\__init__.py:35: skimage_deprecation: Function ``greycomatrix`` is deprecated and will be removed in version 1.0. Use ``skimage.feature.graycomatrix`` instead.\n",
      "  removed_version='1.0')\n",
      "c:\\Users\\ASUS\\AppData\\Local\\Programs\\Python\\Python310\\lib\\site-packages\\skimage\\feature\\__init__.py:42: skimage_deprecation: Function ``greycoprops`` is deprecated and will be removed in version 1.0. Use ``skimage.feature.graycoprops`` instead.\n",
      "  removed_version='1.0')\n",
      "c:\\Users\\ASUS\\AppData\\Local\\Programs\\Python\\Python310\\lib\\site-packages\\skimage\\feature\\__init__.py:42: skimage_deprecation: Function ``greycoprops`` is deprecated and will be removed in version 1.0. Use ``skimage.feature.graycoprops`` instead.\n",
      "  removed_version='1.0')\n",
      "c:\\Users\\ASUS\\AppData\\Local\\Programs\\Python\\Python310\\lib\\site-packages\\skimage\\feature\\__init__.py:42: skimage_deprecation: Function ``greycoprops`` is deprecated and will be removed in version 1.0. Use ``skimage.feature.graycoprops`` instead.\n",
      "  removed_version='1.0')\n",
      "c:\\Users\\ASUS\\AppData\\Local\\Programs\\Python\\Python310\\lib\\site-packages\\skimage\\feature\\__init__.py:42: skimage_deprecation: Function ``greycoprops`` is deprecated and will be removed in version 1.0. Use ``skimage.feature.graycoprops`` instead.\n",
      "  removed_version='1.0')\n"
     ]
    }
   ],
   "source": [
    "#contoh \n",
    "# image_path= 'ROI/Testing/Tidak Layak/Data ke-3.jpg'\n",
    "image_path='Support/DataBaru/Data (10).jpg'\n",
    "classify(image_path)"
   ]
  }
 ],
 "metadata": {
  "kernelspec": {
   "display_name": "Python 3",
   "language": "python",
   "name": "python3"
  },
  "language_info": {
   "codemirror_mode": {
    "name": "ipython",
    "version": 3
   },
   "file_extension": ".py",
   "mimetype": "text/x-python",
   "name": "python",
   "nbconvert_exporter": "python",
   "pygments_lexer": "ipython3",
   "version": "3.10.5"
  },
  "orig_nbformat": 4
 },
 "nbformat": 4,
 "nbformat_minor": 2
}
