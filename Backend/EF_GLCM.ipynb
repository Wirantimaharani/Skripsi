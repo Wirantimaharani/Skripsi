{
 "cells": [
  {
   "attachments": {},
   "cell_type": "markdown",
   "metadata": {},
   "source": [
    "Import Library"
   ]
  },
  {
   "cell_type": "code",
   "execution_count": 689,
   "metadata": {},
   "outputs": [],
   "source": [
    "import os\n",
    "import cv2\n",
    "import numpy as np\n",
    "from tabulate import tabulate\n",
    "from sklearn import preprocessing\n",
    "from skimage.feature import graycomatrix, graycoprops"
   ]
  },
  {
   "attachments": {},
   "cell_type": "markdown",
   "metadata": {},
   "source": [
    "Directory"
   ]
  },
  {
   "cell_type": "code",
   "execution_count": 690,
   "metadata": {},
   "outputs": [],
   "source": [
    "image_directory_training=\"Support/Training\"\n",
    "image_directory_testing=\"Support/Testing\""
   ]
  },
  {
   "attachments": {},
   "cell_type": "markdown",
   "metadata": {},
   "source": [
    "GLCM Atribut"
   ]
  },
  {
   "cell_type": "code",
   "execution_count": 691,
   "metadata": {},
   "outputs": [],
   "source": [
    "#scenario GLCM properties\n",
    "# glcm_properties = ['correlation','homogeneity',]\n",
    "# glcm_properties = ['dissimilarity', 'correlation', 'homogeneity']\n",
    "# glcm_properties = ['dissimilarity', 'correlation', 'contrast']\n",
    "# glcm_properties = ['dissimilarity', 'homogeneity', 'contrast']\n",
    "# glcm_properties = ['correlation', 'homogeneity', 'contrast']\n",
    "glcm_properties = ['dissimilarity', 'correlation', 'homogeneity', 'contrast']\n",
    "angles = [0, 45, 90, 135]\n",
    "distance = [2]"
   ]
  },
  {
   "attachments": {},
   "cell_type": "markdown",
   "metadata": {},
   "source": [
    "Ekstraksi FiturGLCM"
   ]
  },
  {
   "cell_type": "code",
   "execution_count": 692,
   "metadata": {},
   "outputs": [],
   "source": [
    "def ef_glcm_training(image_directory_training):\n",
    "\n",
    "    # membuat list untuk menyimpan hasil ekstraksi fitur\n",
    "    features_training = []\n",
    "\n",
    "    # melakukan ekstraksi fitur pada setiap folder\n",
    "    for a, (root, dirs, files) in enumerate(os.walk(image_directory_training), start=0):\n",
    "\n",
    "        # mengambil semua file gambar di dalam folder\n",
    "        image_files = [f for f in files if f.endswith('.jpg')]\n",
    "\n",
    "        # melakukan ekstraksi fitur pada setiap gambar\n",
    "        for image_file in image_files:\n",
    "            # membaca gambar\n",
    "            image = cv2.imread(os.path.join(root, image_file))\n",
    "\n",
    "            # Hitung matriks glcm\n",
    "            image_gray = cv2.cvtColor(image, cv2.COLOR_BGR2GRAY)\n",
    "            glcm = graycomatrix(image_gray, distances=distance, angles=[\n",
    "                                0, np.pi/4, np.pi/2, 3*np.pi/4], levels=256, symmetric=True, normed=True)\n",
    "\n",
    "            # Hitung fitur glcm\n",
    "            feature_glcm = []\n",
    "            glcm_props = [\n",
    "                propery for name in glcm_properties for propery in graycoprops(glcm, name)[0]]\n",
    "            for item in glcm_props:\n",
    "                feature_glcm.append(item)\n",
    "\n",
    "            #menambahkan semua fitur ke list\n",
    "            features_training.append(feature_glcm + [a])\n",
    "\n",
    "    return features_training\n",
    "\n",
    "\n",
    "def ef_glcm_testing(image_directory_testing):\n",
    "\n",
    "    # membuat list untuk menyimpan hasil ekstraksi fitur\n",
    "    features_testing = []\n",
    "\n",
    "    # melakukan ekstraksi fitur pada setiap folder\n",
    "    for a, (root, dirs, files) in enumerate(os.walk(image_directory_testing), start=0):\n",
    "\n",
    "        # mengambil semua file gambar di dalam folder\n",
    "        image_files = [f for f in files if f.endswith('.jpg')]\n",
    "\n",
    "        # melakukan ekstraksi fitur pada setiap gambar\n",
    "        for image_file in image_files:\n",
    "            # membaca gambar\n",
    "            image = cv2.imread(os.path.join(root, image_file))\n",
    "\n",
    "            # Hitung matriks glcm\n",
    "            image_gray = cv2.cvtColor(image, cv2.COLOR_BGR2GRAY)\n",
    "            glcm = graycomatrix(image_gray, distances=distance, angles=[\n",
    "                                0, np.pi/4, np.pi/2, 3*np.pi/4], levels=256, symmetric=True, normed=True)\n",
    "\n",
    "            # Hitung fitur glcm\n",
    "            feature_glcm = []\n",
    "            glcm_props = [\n",
    "                propery for name in glcm_properties for propery in graycoprops(glcm, name)[0]]\n",
    "            for item in glcm_props:\n",
    "                feature_glcm.append(item)\n",
    "\n",
    "            #menambahkan semua fitur ke list\n",
    "            features_testing.append(feature_glcm + [a])\n",
    "\n",
    "    return features_testing\n"
   ]
  },
  {
   "attachments": {},
   "cell_type": "markdown",
   "metadata": {},
   "source": [
    "Inisialisasi Data Training"
   ]
  },
  {
   "cell_type": "code",
   "execution_count": 693,
   "metadata": {},
   "outputs": [],
   "source": [
    "train_data = ef_glcm_training(image_directory_training)"
   ]
  },
  {
   "cell_type": "code",
   "execution_count": 694,
   "metadata": {},
   "outputs": [],
   "source": [
    "# header tabel hsv glcm\n",
    "header = [f'{prop} {angle}' for prop in glcm_properties for angle in angles] + [\"Label\"]\n",
    "\n",
    "# Mencetak tabel menggunakan tabulate\n",
    "# print(tabulate(train_data, headers=header, tablefmt=\"grid\"))"
   ]
  },
  {
   "attachments": {},
   "cell_type": "markdown",
   "metadata": {},
   "source": [
    "Inisialisasi Data Testing"
   ]
  },
  {
   "cell_type": "code",
   "execution_count": 695,
   "metadata": {},
   "outputs": [],
   "source": [
    "test_data = ef_glcm_testing(image_directory_testing)"
   ]
  },
  {
   "cell_type": "code",
   "execution_count": 696,
   "metadata": {},
   "outputs": [],
   "source": [
    "# header tabel hsv glcm\n",
    "header = [f'{prop} {angle}' for prop in glcm_properties for angle in angles] + [\"Label\"]\n",
    "\n",
    "# Mencetak tabel menggunakan tabulate\n",
    "# print(tabulate(test_data, headers=header, tablefmt=\"grid\"))"
   ]
  },
  {
   "attachments": {},
   "cell_type": "markdown",
   "metadata": {},
   "source": [
    "Klasifikasi Model Naive Bayes"
   ]
  },
  {
   "cell_type": "code",
   "execution_count": 697,
   "metadata": {},
   "outputs": [],
   "source": [
    "X_train = [data[:-1] for data in train_data]\n",
    "y_train = [data[-1] for data in train_data ]"
   ]
  },
  {
   "cell_type": "code",
   "execution_count": 698,
   "metadata": {},
   "outputs": [
    {
     "data": {
      "text/html": [
       "<style>#sk-container-id-44 {color: black;background-color: white;}#sk-container-id-44 pre{padding: 0;}#sk-container-id-44 div.sk-toggleable {background-color: white;}#sk-container-id-44 label.sk-toggleable__label {cursor: pointer;display: block;width: 100%;margin-bottom: 0;padding: 0.3em;box-sizing: border-box;text-align: center;}#sk-container-id-44 label.sk-toggleable__label-arrow:before {content: \"▸\";float: left;margin-right: 0.25em;color: #696969;}#sk-container-id-44 label.sk-toggleable__label-arrow:hover:before {color: black;}#sk-container-id-44 div.sk-estimator:hover label.sk-toggleable__label-arrow:before {color: black;}#sk-container-id-44 div.sk-toggleable__content {max-height: 0;max-width: 0;overflow: hidden;text-align: left;background-color: #f0f8ff;}#sk-container-id-44 div.sk-toggleable__content pre {margin: 0.2em;color: black;border-radius: 0.25em;background-color: #f0f8ff;}#sk-container-id-44 input.sk-toggleable__control:checked~div.sk-toggleable__content {max-height: 200px;max-width: 100%;overflow: auto;}#sk-container-id-44 input.sk-toggleable__control:checked~label.sk-toggleable__label-arrow:before {content: \"▾\";}#sk-container-id-44 div.sk-estimator input.sk-toggleable__control:checked~label.sk-toggleable__label {background-color: #d4ebff;}#sk-container-id-44 div.sk-label input.sk-toggleable__control:checked~label.sk-toggleable__label {background-color: #d4ebff;}#sk-container-id-44 input.sk-hidden--visually {border: 0;clip: rect(1px 1px 1px 1px);clip: rect(1px, 1px, 1px, 1px);height: 1px;margin: -1px;overflow: hidden;padding: 0;position: absolute;width: 1px;}#sk-container-id-44 div.sk-estimator {font-family: monospace;background-color: #f0f8ff;border: 1px dotted black;border-radius: 0.25em;box-sizing: border-box;margin-bottom: 0.5em;}#sk-container-id-44 div.sk-estimator:hover {background-color: #d4ebff;}#sk-container-id-44 div.sk-parallel-item::after {content: \"\";width: 100%;border-bottom: 1px solid gray;flex-grow: 1;}#sk-container-id-44 div.sk-label:hover label.sk-toggleable__label {background-color: #d4ebff;}#sk-container-id-44 div.sk-serial::before {content: \"\";position: absolute;border-left: 1px solid gray;box-sizing: border-box;top: 0;bottom: 0;left: 50%;z-index: 0;}#sk-container-id-44 div.sk-serial {display: flex;flex-direction: column;align-items: center;background-color: white;padding-right: 0.2em;padding-left: 0.2em;position: relative;}#sk-container-id-44 div.sk-item {position: relative;z-index: 1;}#sk-container-id-44 div.sk-parallel {display: flex;align-items: stretch;justify-content: center;background-color: white;position: relative;}#sk-container-id-44 div.sk-item::before, #sk-container-id-44 div.sk-parallel-item::before {content: \"\";position: absolute;border-left: 1px solid gray;box-sizing: border-box;top: 0;bottom: 0;left: 50%;z-index: -1;}#sk-container-id-44 div.sk-parallel-item {display: flex;flex-direction: column;z-index: 1;position: relative;background-color: white;}#sk-container-id-44 div.sk-parallel-item:first-child::after {align-self: flex-end;width: 50%;}#sk-container-id-44 div.sk-parallel-item:last-child::after {align-self: flex-start;width: 50%;}#sk-container-id-44 div.sk-parallel-item:only-child::after {width: 0;}#sk-container-id-44 div.sk-dashed-wrapped {border: 1px dashed gray;margin: 0 0.4em 0.5em 0.4em;box-sizing: border-box;padding-bottom: 0.4em;background-color: white;}#sk-container-id-44 div.sk-label label {font-family: monospace;font-weight: bold;display: inline-block;line-height: 1.2em;}#sk-container-id-44 div.sk-label-container {text-align: center;}#sk-container-id-44 div.sk-container {/* jupyter's `normalize.less` sets `[hidden] { display: none; }` but bootstrap.min.css set `[hidden] { display: none !important; }` so we also need the `!important` here to be able to override the default hidden behavior on the sphinx rendered scikit-learn.org. See: https://github.com/scikit-learn/scikit-learn/issues/21755 */display: inline-block !important;position: relative;}#sk-container-id-44 div.sk-text-repr-fallback {display: none;}</style><div id=\"sk-container-id-44\" class=\"sk-top-container\"><div class=\"sk-text-repr-fallback\"><pre>KNeighborsClassifier(n_neighbors=3)</pre><b>In a Jupyter environment, please rerun this cell to show the HTML representation or trust the notebook. <br />On GitHub, the HTML representation is unable to render, please try loading this page with nbviewer.org.</b></div><div class=\"sk-container\" hidden><div class=\"sk-item\"><div class=\"sk-estimator sk-toggleable\"><input class=\"sk-toggleable__control sk-hidden--visually\" id=\"sk-estimator-id-44\" type=\"checkbox\" checked><label for=\"sk-estimator-id-44\" class=\"sk-toggleable__label sk-toggleable__label-arrow\">KNeighborsClassifier</label><div class=\"sk-toggleable__content\"><pre>KNeighborsClassifier(n_neighbors=3)</pre></div></div></div></div></div>"
      ],
      "text/plain": [
       "KNeighborsClassifier(n_neighbors=3)"
      ]
     },
     "execution_count": 698,
     "metadata": {},
     "output_type": "execute_result"
    }
   ],
   "source": [
    "from sklearn.neighbors import KNeighborsClassifier\n",
    "from sklearn.metrics import confusion_matrix\n",
    "from sklearn.metrics import classification_report\n",
    "\n",
    "knn = KNeighborsClassifier(n_neighbors=3)\n",
    "knn.fit(X_train, y_train)"
   ]
  },
  {
   "cell_type": "code",
   "execution_count": 699,
   "metadata": {},
   "outputs": [],
   "source": [
    "X_test = [data[:-1] for data in test_data]\n",
    "y_true = [data[-1] for data in test_data]"
   ]
  },
  {
   "cell_type": "code",
   "execution_count": 700,
   "metadata": {},
   "outputs": [
    {
     "data": {
      "text/plain": [
       "array([2, 1, 2, 2, 2, 1, 1, 2, 2, 1, 2, 2, 1, 1, 2, 2, 1, 2, 2, 2])"
      ]
     },
     "execution_count": 700,
     "metadata": {},
     "output_type": "execute_result"
    }
   ],
   "source": [
    "y_pred = knn.predict(X_test)\n",
    "y_pred"
   ]
  },
  {
   "cell_type": "code",
   "execution_count": 701,
   "metadata": {},
   "outputs": [],
   "source": [
    "# Menggabungkan data uji dan hasil prediksi\n",
    "result_table = []\n",
    "for data, pred in zip(test_data, y_pred):\n",
    "    # Mengambil nilai fitur berdasarkan indeks\n",
    "    feature_values = [data[i] for i in range(len(data))]\n",
    "    result_row = feature_values + [pred]\n",
    "    result_table.append(result_row)\n",
    "\n",
    "# header tabel hsv glcm\n",
    "header = [f'{prop} {angle}' for prop in glcm_properties for angle in angles] + [\"True Label\",\"Predict Label\"]\n",
    "\n",
    "# Mencetak tabel menggunakan tabulate\n",
    "# print(tabulate(result_table, headers=header, tablefmt=\"grid\"))\n"
   ]
  },
  {
   "cell_type": "code",
   "execution_count": 702,
   "metadata": {},
   "outputs": [
    {
     "name": "stdout",
     "output_type": "stream",
     "text": [
      "              precision    recall  f1-score   support\n",
      "\n",
      "           1       0.57      0.40      0.47        10\n",
      "           2       0.54      0.70      0.61        10\n",
      "\n",
      "    accuracy                           0.55        20\n",
      "   macro avg       0.55      0.55      0.54        20\n",
      "weighted avg       0.55      0.55      0.54        20\n",
      "\n"
     ]
    }
   ],
   "source": [
    "from sklearn.metrics import classification_report\n",
    "\n",
    "print(classification_report(y_true, y_pred))"
   ]
  },
  {
   "cell_type": "code",
   "execution_count": 703,
   "metadata": {},
   "outputs": [
    {
     "data": {
      "image/png": "[encoded data removed]",
      "text/plain": [
       "<Figure size 640x480 with 2 Axes>"
      ]
     },
     "metadata": {},
     "output_type": "display_data"
    }
   ],
   "source": [
    "import seaborn as sns\n",
    "import matplotlib.pyplot as plt\n",
    "from sklearn.metrics import confusion_matrix\n",
    "\n",
    "\n",
    "# menghitung confusion matrix\n",
    "conf_mat = confusion_matrix(y_true, y_pred)\n",
    "\n",
    "sns.heatmap(conf_mat, annot=True, cmap='Blues', fmt='d')\n",
    "plt.xlabel('Predicted')\n",
    "plt.ylabel('True')\n",
    "plt.show()"
   ]
  },
  {
   "cell_type": "code",
   "execution_count": 704,
   "metadata": {},
   "outputs": [
    {
     "name": "stdout",
     "output_type": "stream",
     "text": [
      "Accuracy: 0.55\n"
     ]
    }
   ],
   "source": [
    "from sklearn.metrics import accuracy_score\n",
    "\n",
    "accuracy = accuracy_score(y_true, y_pred)\n",
    "print(\"Accuracy:\", accuracy)"
   ]
  }
 ],
 "metadata": {
  "kernelspec": {
   "display_name": "Python 3",
   "language": "python",
   "name": "python3"
  },
  "language_info": {
   "codemirror_mode": {
    "name": "ipython",
    "version": 3
   },
   "file_extension": ".py",
   "mimetype": "text/x-python",
   "name": "python",
   "nbconvert_exporter": "python",
   "pygments_lexer": "ipython3",
   "version": "3.10.5"
  },
  "orig_nbformat": 4
 },
 "nbformat": 4,
 "nbformat_minor": 2
}
